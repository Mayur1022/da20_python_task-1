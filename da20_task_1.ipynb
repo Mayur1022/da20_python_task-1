{
 "cells": [
  {
   "cell_type": "code",
   "execution_count": null,
   "id": "81dd1d83",
   "metadata": {},
   "outputs": [
    {
     "name": "stdout",
     "output_type": "stream",
     "text": [
      "5\n",
      "6\n",
      "5\n",
      "6\n",
      "17\n",
      "1\n",
      "3\n",
      "1\n",
      "7\n",
      "3\n",
      "3\n"
     ]
    }
   ],
   "source": [
    "#Differnt types of string methods\n",
    "\n",
    "#variables\n",
    "name = \"Mayur\"\n",
    "city = \"Nagpur\"\n",
    "course = \"Da20\"\n",
    "college = \"Shivaji Science\"\n",
    "language = \"Python\"\n",
    "hobby = \"Bike Riding\"\n",
    "anime = \"demon slayer\"\n",
    "book = \"Rich Dad Poor Dad\"\n",
    "food = \"Non Veg\"\n",
    "friend = \"Shubham\"\n",
    "\n",
    "#1-length\n",
    "\n",
    "print(len(name))  \n",
    "print(len(city))            \n",
    "print(len(\"Mayur\"))    \n",
    "print(len(\"Python\"))        \n",
    "print(len(book))         \n",
    "print(len(\" \"))                 \n",
    "print(len([1, 2, 3]))        \n",
    "print(len([friend])) \n",
    "print(len(food))               \n",
    "print(len((10, 20, 30)))     \n",
    "print(len({\"a\", \"b\", \"c\"}))  \n"
   ]
  },
  {
   "cell_type": "code",
   "execution_count": 12,
   "id": "d0fd30a3",
   "metadata": {},
   "outputs": [
    {
     "name": "stdout",
     "output_type": "stream",
     "text": [
      "MayurNagpur\n",
      "Nagpur Da20\n",
      "demon slayerBike Riding\n",
      "Rich Dad Poor DadMayur\n",
      "ShubhamNagpur\n",
      "Mayur fname\n",
      "Bike RidingShivaji Science\n",
      "Non Veg Idli\n",
      "Da20 finished\n",
      "Shubham best frd\n",
      "Nagpurmy home\n"
     ]
    }
   ],
   "source": [
    "#variables\n",
    "name = \"Mayur\"\n",
    "city = \"Nagpur\"\n",
    "course = \"Da20\"\n",
    "college = \"Shivaji Science\"\n",
    "language = \"Python\"\n",
    "hobby = \"Bike Riding\"\n",
    "anime = \"demon slayer\"\n",
    "book = \"Rich Dad Poor Dad\"\n",
    "food = \"Non Veg\"\n",
    "friend = \"Shubham\"\n",
    "\n",
    "#2-add\n",
    "\n",
    "print(name.__add__(city))\n",
    "print(city.__add__(\" \").__add__(course))\n",
    "print(anime.__add__(hobby))\n",
    "print(book.__add__(name)) \n",
    "print(friend.__add__(city)) \n",
    "print(name.__add__(\" fname\")) \n",
    "print(hobby.__add__(college)) \n",
    "print(food.__add__(\" Idli\")) \n",
    "print(course.__add__(\"\").__add__(\" finished\"))\n",
    "print(friend.__add__(\" best frd\")) \n",
    "print(city.__add__(\"my home\"))\n"
   ]
  },
  {
   "cell_type": "code",
   "execution_count": 16,
   "id": "e8d6e338",
   "metadata": {},
   "outputs": [
    {
     "name": "stdout",
     "output_type": "stream",
     "text": [
      "APPLE\n",
      "BANANA\n",
      "CHERRY\n",
      "MAYUR\n",
      "ELEPHANT\n",
      "FOOTBALL\n",
      "ARCTECHNO\n",
      "HONDA\n",
      "INDIA\n",
      "JAGUAR\n"
     ]
    }
   ],
   "source": [
    "#variables\n",
    "a = \"Apple\"\n",
    "b = \"Banana\"\n",
    "c = \"Cherry\"\n",
    "d = \"Dragonfruit\"\n",
    "e = \"Elephant\"\n",
    "f = \"Football\"\n",
    "g = \"Guitar\"\n",
    "h = \"Honda\"\n",
    "i = \"India\"\n",
    "j = \"Jaguar\"\n",
    "\n",
    "#3-upper\n",
    "\n",
    "print(a.upper())  \n",
    "print(b.upper())  \n",
    "print(c.upper())   \n",
    "print(\"mayur\".upper())   \n",
    "print(e.upper())   \n",
    "print(f.upper())   \n",
    "print(\"arctechno\".upper())   \n",
    "print(h.upper())   \n",
    "print(i.upper())   \n",
    "print(j.upper())   \n"
   ]
  },
  {
   "cell_type": "code",
   "execution_count": null,
   "id": "ce150f80",
   "metadata": {},
   "outputs": [
    {
     "name": "stdout",
     "output_type": "stream",
     "text": [
      "banana\n",
      "cherry\n",
      "dragonfruit\n",
      "elephant\n",
      "guitar\n",
      "honda\n",
      "india\n",
      "football\n",
      "jaguar\n",
      "apple\n",
      "Dragonfruit\n",
      "Elephant\n",
      "Apple\n",
      "Banana\n",
      "Cherry\n",
      "Football\n",
      "Guitar\n",
      "Honda\n",
      "India\n",
      "Jaguar\n"
     ]
    }
   ],
   "source": [
    "#variables\n",
    "a = \"Apple\"\n",
    "b = \"Banana\"\n",
    "c = \"Cherry\"\n",
    "d = \"Dragonfruit\"\n",
    "e = \"Elephant\"\n",
    "f = \"Football\"\n",
    "g = \"Guitar\"\n",
    "h = \"Honda\"\n",
    "i = \"India\"\n",
    "j = \"Jaguar\"\n",
    "\n",
    "#4-lower\n",
    "        \n",
    "print(b.lower())             \n",
    "print(\"Cherry\".lower())      \n",
    "print(d.lower())            \n",
    "print(\"Elephant\".lower())             \n",
    "print(\"Guitar\".lower())   \n",
    "print(h.lower())            \n",
    "print(i.lower()) \n",
    "print(f.lower())             \n",
    "print(\"Jaguar\".lower())\n",
    "print(\"Apple\".lower())\n",
    "\n",
    "#5-title\n",
    "           \n",
    "print(\"Dragonfruit\".title())\n",
    "print(e.title()) \n",
    "print(\"Apple\".title())\n",
    "print(b.title())            \n",
    "print(c.title())\n",
    "print(\"Football\".title())    \n",
    "print(g.title())             \n",
    "print(\"Honda\".title())       \n",
    "print(\"India\".title())       \n",
    "print(j.title())\n"
   ]
  },
  {
   "cell_type": "code",
   "execution_count": null,
   "id": "8c261fa3",
   "metadata": {},
   "outputs": [
    {
     "name": "stdout",
     "output_type": "stream",
     "text": [
      "Cherry\n",
      "Apple\n",
      "Jaguar\n",
      "Honda\n",
      "Banana\n",
      "Dragonfruit\n",
      "India\n",
      "Guitar\n",
      "Elephant\n",
      "Banana\n"
     ]
    }
   ],
   "source": [
    "#6-capitalize\n",
    "\n",
    "print(\"Cherry\".capitalize())\n",
    "print(a.capitalize())\n",
    "print(\"Jaguar\".capitalize())\n",
    "print(h.capitalize())\n",
    "print(\"Banana\".capitalize())\n",
    "print(d.capitalize())\n",
    "print(\"India\".capitalize())\n",
    "print(g.capitalize())\n",
    "print(\"Elephant\".capitalize())\n",
    "print(b.capitalize())\n"
   ]
  },
  {
   "cell_type": "code",
   "execution_count": 21,
   "id": "a25e9c6d",
   "metadata": {},
   "outputs": [
    {
     "name": "stdout",
     "output_type": "stream",
     "text": [
      "True\n",
      "True\n",
      "False\n",
      "True\n",
      "False\n",
      "True\n",
      "True\n",
      "True\n",
      "False\n",
      "True\n"
     ]
    }
   ],
   "source": [
    "#7-start with\n",
    "\n",
    "print(\"Dragonfruit\".startswith(\"D\"))\n",
    "print(c.startswith(\"C\"))\n",
    "print(\"Apple\".startswith(\"Ac\"))\n",
    "print(f.startswith(\"F\"))\n",
    "print(\"Jaguar\".startswith(\"b\"))\n",
    "print(h.startswith(\"H\"))\n",
    "print(\"Banana\".startswith(\"B\"))\n",
    "print(i.startswith(\"I\"))\n",
    "print(\"Guitar\".startswith(\"k\"))\n",
    "print(a.startswith(\"A\"))\n"
   ]
  },
  {
   "cell_type": "code",
   "execution_count": 22,
   "id": "0bf20f7e",
   "metadata": {},
   "outputs": [
    {
     "name": "stdout",
     "output_type": "stream",
     "text": [
      "True\n",
      "False\n",
      "True\n",
      "True\n",
      "False\n",
      "True\n",
      "True\n",
      "False\n",
      "True\n",
      "True\n"
     ]
    }
   ],
   "source": [
    "#8-end with\n",
    "\n",
    "print(\"India\".endswith(\"a\"))\n",
    "print(b.endswith(\"c\"))\n",
    "print(\"Apple\".endswith(\"e\"))\n",
    "print(d.endswith(\"t\"))\n",
    "print(\"Cherry\".endswith(\"n\"))\n",
    "print(f.endswith(\"l\"))\n",
    "print(\"Elephant\".endswith(\"t\"))\n",
    "print(j.endswith(\"k\"))\n",
    "print(\"Honda\".endswith(\"a\"))\n",
    "print(c.endswith(\"y\"))\n"
   ]
  },
  {
   "cell_type": "code",
   "execution_count": 23,
   "id": "a3a4a5b3",
   "metadata": {},
   "outputs": [
    {
     "name": "stdout",
     "output_type": "stream",
     "text": [
      "2\n",
      "0\n",
      "3\n",
      "1\n",
      "1\n",
      "3\n",
      "3\n",
      "2\n",
      "2\n",
      "0\n"
     ]
    }
   ],
   "source": [
    "#9-find\n",
    "\n",
    "print(\"Banana\".find(\"na\"))\n",
    "print(g.find(\"G\"))\n",
    "print(\"Cherry\".find(\"r\"))\n",
    "print(a.find(\"p\"))\n",
    "print(\"Football\".find(\"oo\"))\n",
    "print(e.find(\"p\"))\n",
    "print(\"Jaguar\".find(\"ua\"))\n",
    "print(i.find(\"d\"))\n",
    "print(\"Honda\".find(\"n\"))\n",
    "print(c.find(\"C\"))\n"
   ]
  },
  {
   "cell_type": "code",
   "execution_count": 24,
   "id": "f49c0fab",
   "metadata": {},
   "outputs": [
    {
     "name": "stdout",
     "output_type": "stream",
     "text": [
      "Xpple\n",
      "Manana\n",
      "Zherry\n",
      "F00tball\n",
      "Dragonjuice\n",
      "Car\n",
      "🇮ndia\n",
      "H0nda\n",
      "Eleffant\n",
      "Geetar\n"
     ]
    }
   ],
   "source": [
    "#10-replace\n",
    "\n",
    "print(\"Apple\".replace(\"A\", \"X\"))\n",
    "print(b.replace(\"B\", \"M\"))\n",
    "print(\"Cherry\".replace(\"C\", \"Z\"))\n",
    "print(f.replace(\"oo\", \"00\"))\n",
    "print(\"Dragonfruit\".replace(\"fruit\", \"juice\"))\n",
    "print(j.replace(\"Jaguar\", \"Car\"))\n",
    "print(\"India\".replace(\"I\", \"🇮\"))\n",
    "print(h.replace(\"o\", \"0\"))\n",
    "print(\"Elephant\".replace(\"ph\", \"ff\"))\n",
    "print(g.replace(\"Gui\", \"Gee\"))\n"
   ]
  },
  {
   "cell_type": "code",
   "execution_count": 25,
   "id": "f470f69a",
   "metadata": {},
   "outputs": [
    {
     "name": "stdout",
     "output_type": "stream",
     "text": [
      "3\n",
      "2\n",
      "2\n",
      "1\n",
      "2\n",
      "1\n",
      "1\n",
      "2\n",
      "2\n",
      "1\n"
     ]
    }
   ],
   "source": [
    "#11-count\n",
    "\n",
    "print(\"Banana\".count(\"a\"))\n",
    "print(c.count(\"r\"))\n",
    "print(\"Football\".count(\"o\"))\n",
    "print(i.count(\"i\"))\n",
    "print(\"Apple\".count(\"p\"))\n",
    "print(e.count(\"e\"))\n",
    "print(\"Cherry\".count(\"C\"))\n",
    "print(f.count(\"l\"))\n",
    "print(\"Jaguar\".count(\"a\"))\n",
    "print(g.count(\"u\"))\n"
   ]
  },
  {
   "cell_type": "code",
   "execution_count": null,
   "id": "2e30ca88",
   "metadata": {},
   "outputs": [
    {
     "name": "stdout",
     "output_type": "stream",
     "text": [
      "Apple  \n",
      "anana\n",
      "Cherry\n",
      "onda\n",
      "Jaguar\n",
      "ragonfruit\n",
      "India\n",
      "lephant\n",
      "Guitar\n",
      "aguar\n"
     ]
    }
   ],
   "source": [
    "#12-strip\n",
    "print(\"Apple  \".strip(\"p\"))\n",
    "print(b.strip(\"B\"))\n",
    "print(\"  Cherry \".strip())\n",
    "print(h.strip(\"H\"))\n",
    "print(\"  Jaguar  \".strip())\n",
    "print(d.strip(\"D\"))\n",
    "print(\" India \".strip())\n",
    "print(e.strip(\"E\"))\n",
    "print(\"  Guitar\".strip())\n",
    "print(j.strip(\"J\"))\n"
   ]
  },
  {
   "cell_type": "code",
   "execution_count": 31,
   "id": "5e31cf82",
   "metadata": {},
   "outputs": [
    {
     "name": "stdout",
     "output_type": "stream",
     "text": [
      "True\n",
      "True\n",
      "True\n",
      "True\n",
      "False\n",
      "True\n",
      "True\n",
      "True\n",
      "True\n",
      "False\n"
     ]
    }
   ],
   "source": [
    "#13-conatins\n",
    "\n",
    "print(\"Dragonfruit\".__contains__(\"fruit\"))\n",
    "print(a.__contains__(\"pp\"))\n",
    "print(\"Banana\".__contains__(\"na\"))\n",
    "print(d.__contains__(\"Drag\"))\n",
    "print(f.__contains__(\"ball134\"))\n",
    "print(\"Guitar\".__contains__(\"tar\"))\n",
    "print(c.__contains__(\"rr\"))\n",
    "print(\"Honda\".__contains__(\"nd\"))\n",
    "print(j.__contains__(\"Jag\"))\n",
    "print(\"Elephant\".__contains__(\"phyggvant\"))\n"
   ]
  },
  {
   "cell_type": "code",
   "execution_count": 34,
   "id": "dab27a92",
   "metadata": {},
   "outputs": [
    {
     "name": "stdout",
     "output_type": "stream",
     "text": [
      "True\n",
      "True\n",
      "True\n",
      "True\n",
      "True\n",
      "True\n",
      "True\n",
      "True\n",
      "True\n",
      "True\n"
     ]
    }
   ],
   "source": [
    "#14-equal\n",
    "\n",
    "print(a.__eq__(\"Apple\"))\n",
    "print(\"Banana\".__eq__(b))\n",
    "print(c.__eq__(\"Cherry\"))\n",
    "print(\"Dragonfruit\".__eq__(d))\n",
    "print(e.__eq__(\"Elephant\"))\n",
    "print(f.__eq__(\"Football\"))\n",
    "print(\"Guitar\".__eq__(g))\n",
    "print(h.__eq__(\"Honda\"))\n",
    "print(\"India\".__eq__(i))\n",
    "print(j.__eq__(\"Jaguar\"))\n"
   ]
  },
  {
   "cell_type": "code",
   "execution_count": 35,
   "id": "7d556477",
   "metadata": {},
   "outputs": [
    {
     "name": "stdout",
     "output_type": "stream",
     "text": [
      "False\n",
      "False\n",
      "True\n",
      "False\n",
      "False\n",
      "True\n",
      "True\n",
      "False\n",
      "True\n"
     ]
    }
   ],
   "source": [
    "#15-greater than\n",
    "\n",
    "print(a.__gt__(\"Banana\"))\n",
    "print(\"Cherry\".__gt__(c))\n",
    "print(d.__gt__(\"Cherry\"))\n",
    "print(\"Guitar\".__gt__(g))\n",
    "print(f.__gt__(\"Football\"))\n",
    "print(\"Jaguar\".__gt__(i))\n",
    "print(b.__gt__(\"Apple\"))\n",
    "print(\"Honda\".__gt__(h))\n",
    "print(c.__gt__(\"Banana\"))\n"
   ]
  },
  {
   "cell_type": "code",
   "execution_count": null,
   "id": "c076072c",
   "metadata": {},
   "outputs": [
    {
     "name": "stdout",
     "output_type": "stream",
     "text": [
      "False\n",
      "False\n",
      "False\n",
      "False\n",
      "False\n",
      "False\n",
      "False\n",
      "False\n",
      "False\n",
      "False\n"
     ]
    }
   ],
   "source": [
    "#16- less than\n",
    "\n",
    "print(\"hello\".__lt__(\"abc\"))\n",
    "print(a.__lt__(\"Apple\")) \n",
    "print(\"Cherry\".__lt__(c))\n",
    "print(d.__lt__(\"Cherry\"))\n",
    "print(\"Guitar\".__lt__(g))\n",
    "print(f.__lt__(\"Foot\"))\n",
    "print(\"Jaguar\".__lt__(j))\n",
    "print(b.__lt__(\"Banana\"))\n",
    "print(\"India\".__lt__(i))\n",
    "print(c.__lt__(\"Ban\"))\n"
   ]
  },
  {
   "cell_type": "code",
   "execution_count": 38,
   "id": "e558fb41",
   "metadata": {},
   "outputs": [
    {
     "name": "stdout",
     "output_type": "stream",
     "text": [
      "True\n",
      "True\n",
      "True\n",
      "True\n",
      "True\n",
      "True\n",
      "True\n",
      "True\n",
      "True\n",
      "True\n"
     ]
    }
   ],
   "source": [
    "#17-greater than equal\n",
    "\n",
    "print(\"hello\".__ge__(\"abc\"))\n",
    "print(a.__ge__(\"Apple\"))\n",
    "print(\"Cherry\".__ge__(c))\n",
    "print(d.__ge__(\"Cherry\"))\n",
    "print(\"Guitar\".__ge__(g))\n",
    "print(f.__ge__(\"Foot\"))\n",
    "print(\"Jaguar\".__ge__(j))\n",
    "print(b.__ge__(\"Banana\"))\n",
    "print(\"India\".__ge__(i))\n",
    "print(c.__ge__(\"Ban\"))\n"
   ]
  }
 ],
 "metadata": {
  "kernelspec": {
   "display_name": "Python 3",
   "language": "python",
   "name": "python3"
  },
  "language_info": {
   "codemirror_mode": {
    "name": "ipython",
    "version": 3
   },
   "file_extension": ".py",
   "mimetype": "text/x-python",
   "name": "python",
   "nbconvert_exporter": "python",
   "pygments_lexer": "ipython3",
   "version": "3.13.7"
  }
 },
 "nbformat": 4,
 "nbformat_minor": 5
}
